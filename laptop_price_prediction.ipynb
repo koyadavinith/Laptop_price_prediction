{
 "cells": [
  {
   "cell_type": "markdown",
   "id": "bc230919",
   "metadata": {},
   "source": [
    "# Laptop Price Prediction"
   ]
  },
  {
   "cell_type": "markdown",
   "id": "004a182a",
   "metadata": {},
   "source": [
    "### Importing libraries and data"
   ]
  },
  {
   "cell_type": "code",
   "execution_count": 2,
   "id": "d041eda5",
   "metadata": {},
   "outputs": [],
   "source": [
    "import pandas as pd\n",
    "import seaborn as sns\n",
    "import matplotlib.pyplot as plt\n",
    "import numpy as np\n",
    "import re"
   ]
  },
  {
   "cell_type": "code",
   "execution_count": 3,
   "id": "94fbd6f0",
   "metadata": {},
   "outputs": [
    {
     "data": {
      "text/html": [
       "<div>\n",
       "<style scoped>\n",
       "    .dataframe tbody tr th:only-of-type {\n",
       "        vertical-align: middle;\n",
       "    }\n",
       "\n",
       "    .dataframe tbody tr th {\n",
       "        vertical-align: top;\n",
       "    }\n",
       "\n",
       "    .dataframe thead th {\n",
       "        text-align: right;\n",
       "    }\n",
       "</style>\n",
       "<table border=\"1\" class=\"dataframe\">\n",
       "  <thead>\n",
       "    <tr style=\"text-align: right;\">\n",
       "      <th></th>\n",
       "      <th>Product</th>\n",
       "      <th>Rating</th>\n",
       "      <th>MRP</th>\n",
       "      <th>Feature</th>\n",
       "    </tr>\n",
       "  </thead>\n",
       "  <tbody>\n",
       "    <tr>\n",
       "      <th>0</th>\n",
       "      <td>Lenovo IdeaPad 3 Core i3 11th Gen - (8 GB/256 ...</td>\n",
       "      <td>4.2</td>\n",
       "      <td>₹36,990</td>\n",
       "      <td>Intel Core i3 Processor (11th Gen)8 GB DDR4 RA...</td>\n",
       "    </tr>\n",
       "    <tr>\n",
       "      <th>1</th>\n",
       "      <td>Lenovo IdeaPad 3 Core i3 11th Gen - (8 GB/512 ...</td>\n",
       "      <td>4.2</td>\n",
       "      <td>₹39,990</td>\n",
       "      <td>Intel Core i3 Processor (11th Gen)8 GB DDR4 RA...</td>\n",
       "    </tr>\n",
       "    <tr>\n",
       "      <th>2</th>\n",
       "      <td>ASUS VivoBook 15 (2022) Core i3 10th Gen - (8 ...</td>\n",
       "      <td>4.3</td>\n",
       "      <td>₹32,990</td>\n",
       "      <td>Intel Core i3 Processor (10th Gen)8 GB DDR4 RA...</td>\n",
       "    </tr>\n",
       "    <tr>\n",
       "      <th>3</th>\n",
       "      <td>HP Pavilion Ryzen 5 Hexa Core AMD R5-5600H - (...</td>\n",
       "      <td>4.4</td>\n",
       "      <td>₹49,990</td>\n",
       "      <td>AMD Ryzen 5 Hexa Core Processor8 GB DDR4 RAM64...</td>\n",
       "    </tr>\n",
       "    <tr>\n",
       "      <th>4</th>\n",
       "      <td>ASUS TUF Gaming F15 Core i5 10th Gen - (8 GB/5...</td>\n",
       "      <td>4.4</td>\n",
       "      <td>₹49,990</td>\n",
       "      <td>Intel Core i5 Processor (10th Gen)8 GB DDR4 RA...</td>\n",
       "    </tr>\n",
       "  </tbody>\n",
       "</table>\n",
       "</div>"
      ],
      "text/plain": [
       "                                             Product  Rating      MRP  \\\n",
       "0  Lenovo IdeaPad 3 Core i3 11th Gen - (8 GB/256 ...     4.2  ₹36,990   \n",
       "1  Lenovo IdeaPad 3 Core i3 11th Gen - (8 GB/512 ...     4.2  ₹39,990   \n",
       "2  ASUS VivoBook 15 (2022) Core i3 10th Gen - (8 ...     4.3  ₹32,990   \n",
       "3  HP Pavilion Ryzen 5 Hexa Core AMD R5-5600H - (...     4.4  ₹49,990   \n",
       "4  ASUS TUF Gaming F15 Core i5 10th Gen - (8 GB/5...     4.4  ₹49,990   \n",
       "\n",
       "                                             Feature  \n",
       "0  Intel Core i3 Processor (11th Gen)8 GB DDR4 RA...  \n",
       "1  Intel Core i3 Processor (11th Gen)8 GB DDR4 RA...  \n",
       "2  Intel Core i3 Processor (10th Gen)8 GB DDR4 RA...  \n",
       "3  AMD Ryzen 5 Hexa Core Processor8 GB DDR4 RAM64...  \n",
       "4  Intel Core i5 Processor (10th Gen)8 GB DDR4 RA...  "
      ]
     },
     "execution_count": 3,
     "metadata": {},
     "output_type": "execute_result"
    }
   ],
   "source": [
    "df  = pd.read_csv('laptop_details.csv')\n",
    "df.head()"
   ]
  },
  {
   "cell_type": "markdown",
   "id": "fda0e9be",
   "metadata": {},
   "source": [
    "### Feature Extraction"
   ]
  },
  {
   "cell_type": "markdown",
   "id": "6689ef5e",
   "metadata": {},
   "source": [
    "> Here we can use 'Product' and 'Feature' for information of the product \n",
    "> We dont want Brand name and rating of the product,rating is based on the brand name we are here working for elomusk."
   ]
  },
  {
   "cell_type": "code",
   "execution_count": 4,
   "id": "44876e5a",
   "metadata": {},
   "outputs": [],
   "source": [
    "def feature_extract(feature):\n",
    "    # RAM size\n",
    "    ram = re.search(r'\\b(\\d+)\\s*[GB|gb]', feature)\n",
    "    if ram:\n",
    "        ram = ram.group(1)\n",
    "    else:\n",
    "        ram = None\n",
    "\n",
    "    # Operating system\n",
    "    os = re.search(r'Windows\\s*\\d+|Windows\\s*[V|v]ista|[L|l]inux|[M|m]ac\\s*[O|o]S', feature)\n",
    "    if os:\n",
    "        os = os.group()\n",
    "    else:\n",
    "        os = None\n",
    "\n",
    "    # Graphics card\n",
    "    graphics_regex = r'(\\d+)\\s+GB\\s+Graphics'\n",
    "    graphics = ''.join(re.findall(graphics_regex, feature))\n",
    "    \n",
    "\n",
    "\n",
    "    return pd.Series({'ram': ram, 'os': os, 'graphics': graphics})"
   ]
  },
  {
   "cell_type": "code",
   "execution_count": 5,
   "id": "39f4de03",
   "metadata": {},
   "outputs": [],
   "source": [
    "new_df  =  df['Product'].apply(feature_extract)\n",
    "\n",
    "df = df.join(new_df)"
   ]
  },
  {
   "cell_type": "code",
   "execution_count": 6,
   "id": "f736d40d",
   "metadata": {},
   "outputs": [],
   "source": [
    "#exxtracting processor information from feature\n",
    "regex = r'\\b(?:AMD|Intel|M1|M2|Qualcomm)[\\s\\w]+Processor'\n",
    "fun = lambda x: re.findall(regex, x)\n",
    "df['processor'] = df['Feature'].apply(fun)\n",
    "\n",
    "#Extracting Storage info\n",
    "regex = r'[\\d]+\\s(?:GB|TB)\\s(?:HDD|SSD)'\n",
    "df['memory'] = df['Feature'].apply(lambda x : re.findall(regex, x))\n",
    "\n",
    "#Extracting display size\n",
    "df['display'] = df['Feature'].apply(lambda x : re.findall(r'\\d+(?:\\.\\d+)? inch',x))"
   ]
  },
  {
   "cell_type": "code",
   "execution_count": 7,
   "id": "f86175b6",
   "metadata": {},
   "outputs": [],
   "source": [
    "df.processor = df.processor.apply(lambda x: ''.join(x))\n",
    "df.memory = df.memory.apply(lambda x: ''.join(x))\n",
    "df.display = df.display.apply(lambda x: ''.join(x))"
   ]
  },
  {
   "cell_type": "code",
   "execution_count": 8,
   "id": "7a4bd371",
   "metadata": {},
   "outputs": [],
   "source": [
    "df['MRP'] = df['MRP'].apply(lambda x : int(x[1:].replace(',', '')))"
   ]
  },
  {
   "cell_type": "code",
   "execution_count": 9,
   "id": "41f17758",
   "metadata": {},
   "outputs": [
    {
     "data": {
      "text/html": [
       "<div>\n",
       "<style scoped>\n",
       "    .dataframe tbody tr th:only-of-type {\n",
       "        vertical-align: middle;\n",
       "    }\n",
       "\n",
       "    .dataframe tbody tr th {\n",
       "        vertical-align: top;\n",
       "    }\n",
       "\n",
       "    .dataframe thead th {\n",
       "        text-align: right;\n",
       "    }\n",
       "</style>\n",
       "<table border=\"1\" class=\"dataframe\">\n",
       "  <thead>\n",
       "    <tr style=\"text-align: right;\">\n",
       "      <th></th>\n",
       "      <th>Product</th>\n",
       "      <th>Rating</th>\n",
       "      <th>MRP</th>\n",
       "      <th>Feature</th>\n",
       "      <th>ram</th>\n",
       "      <th>os</th>\n",
       "      <th>graphics</th>\n",
       "      <th>processor</th>\n",
       "      <th>memory</th>\n",
       "      <th>display</th>\n",
       "    </tr>\n",
       "  </thead>\n",
       "  <tbody>\n",
       "    <tr>\n",
       "      <th>0</th>\n",
       "      <td>Lenovo IdeaPad 3 Core i3 11th Gen - (8 GB/256 ...</td>\n",
       "      <td>4.2</td>\n",
       "      <td>36990</td>\n",
       "      <td>Intel Core i3 Processor (11th Gen)8 GB DDR4 RA...</td>\n",
       "      <td>8</td>\n",
       "      <td>Windows 11</td>\n",
       "      <td></td>\n",
       "      <td>Intel Core i3 Processor</td>\n",
       "      <td>256 GB SSD</td>\n",
       "      <td>14 inch</td>\n",
       "    </tr>\n",
       "    <tr>\n",
       "      <th>1</th>\n",
       "      <td>Lenovo IdeaPad 3 Core i3 11th Gen - (8 GB/512 ...</td>\n",
       "      <td>4.2</td>\n",
       "      <td>39990</td>\n",
       "      <td>Intel Core i3 Processor (11th Gen)8 GB DDR4 RA...</td>\n",
       "      <td>8</td>\n",
       "      <td>Windows 11</td>\n",
       "      <td></td>\n",
       "      <td>Intel Core i3 Processor</td>\n",
       "      <td>512 GB SSD</td>\n",
       "      <td>15.6 inch</td>\n",
       "    </tr>\n",
       "    <tr>\n",
       "      <th>2</th>\n",
       "      <td>ASUS VivoBook 15 (2022) Core i3 10th Gen - (8 ...</td>\n",
       "      <td>4.3</td>\n",
       "      <td>32990</td>\n",
       "      <td>Intel Core i3 Processor (10th Gen)8 GB DDR4 RA...</td>\n",
       "      <td>8</td>\n",
       "      <td>Windows 11</td>\n",
       "      <td></td>\n",
       "      <td>Intel Core i3 Processor</td>\n",
       "      <td>512 GB SSD</td>\n",
       "      <td>15.6 inch</td>\n",
       "    </tr>\n",
       "    <tr>\n",
       "      <th>3</th>\n",
       "      <td>HP Pavilion Ryzen 5 Hexa Core AMD R5-5600H - (...</td>\n",
       "      <td>4.4</td>\n",
       "      <td>49990</td>\n",
       "      <td>AMD Ryzen 5 Hexa Core Processor8 GB DDR4 RAM64...</td>\n",
       "      <td>8</td>\n",
       "      <td>Windows 10</td>\n",
       "      <td>4</td>\n",
       "      <td>AMD Ryzen 5 Hexa Core Processor</td>\n",
       "      <td>512 GB SSD</td>\n",
       "      <td>15.6 inch</td>\n",
       "    </tr>\n",
       "    <tr>\n",
       "      <th>4</th>\n",
       "      <td>ASUS TUF Gaming F15 Core i5 10th Gen - (8 GB/5...</td>\n",
       "      <td>4.4</td>\n",
       "      <td>49990</td>\n",
       "      <td>Intel Core i5 Processor (10th Gen)8 GB DDR4 RA...</td>\n",
       "      <td>8</td>\n",
       "      <td>Windows 11</td>\n",
       "      <td>4</td>\n",
       "      <td>Intel Core i5 Processor</td>\n",
       "      <td>512 GB SSD</td>\n",
       "      <td>15.6 inch</td>\n",
       "    </tr>\n",
       "  </tbody>\n",
       "</table>\n",
       "</div>"
      ],
      "text/plain": [
       "                                             Product  Rating    MRP  \\\n",
       "0  Lenovo IdeaPad 3 Core i3 11th Gen - (8 GB/256 ...     4.2  36990   \n",
       "1  Lenovo IdeaPad 3 Core i3 11th Gen - (8 GB/512 ...     4.2  39990   \n",
       "2  ASUS VivoBook 15 (2022) Core i3 10th Gen - (8 ...     4.3  32990   \n",
       "3  HP Pavilion Ryzen 5 Hexa Core AMD R5-5600H - (...     4.4  49990   \n",
       "4  ASUS TUF Gaming F15 Core i5 10th Gen - (8 GB/5...     4.4  49990   \n",
       "\n",
       "                                             Feature ram          os graphics  \\\n",
       "0  Intel Core i3 Processor (11th Gen)8 GB DDR4 RA...   8  Windows 11            \n",
       "1  Intel Core i3 Processor (11th Gen)8 GB DDR4 RA...   8  Windows 11            \n",
       "2  Intel Core i3 Processor (10th Gen)8 GB DDR4 RA...   8  Windows 11            \n",
       "3  AMD Ryzen 5 Hexa Core Processor8 GB DDR4 RAM64...   8  Windows 10        4   \n",
       "4  Intel Core i5 Processor (10th Gen)8 GB DDR4 RA...   8  Windows 11        4   \n",
       "\n",
       "                         processor      memory    display  \n",
       "0          Intel Core i3 Processor  256 GB SSD    14 inch  \n",
       "1          Intel Core i3 Processor  512 GB SSD  15.6 inch  \n",
       "2          Intel Core i3 Processor  512 GB SSD  15.6 inch  \n",
       "3  AMD Ryzen 5 Hexa Core Processor  512 GB SSD  15.6 inch  \n",
       "4          Intel Core i5 Processor  512 GB SSD  15.6 inch  "
      ]
     },
     "execution_count": 9,
     "metadata": {},
     "output_type": "execute_result"
    }
   ],
   "source": [
    "df.head()"
   ]
  },
  {
   "cell_type": "markdown",
   "id": "e62390f1",
   "metadata": {},
   "source": [
    "### Data Cleaning"
   ]
  },
  {
   "cell_type": "code",
   "execution_count": 10,
   "id": "32baec43",
   "metadata": {},
   "outputs": [],
   "source": [
    "df.drop(columns = ['Rating'],inplace = True)\n",
    "#lets drop feature later"
   ]
  },
  {
   "cell_type": "code",
   "execution_count": 11,
   "id": "30ae3267",
   "metadata": {},
   "outputs": [
    {
     "data": {
      "text/plain": [
       "Windows 11    534\n",
       "Windows 10    126\n",
       "Mac OS         19\n",
       "Windows 1       2\n",
       "Name: os, dtype: int64"
      ]
     },
     "execution_count": 11,
     "metadata": {},
     "output_type": "execute_result"
    }
   ],
   "source": [
    "df['os'].value_counts()"
   ]
  },
  {
   "cell_type": "code",
   "execution_count": 12,
   "id": "a0764dec",
   "metadata": {},
   "outputs": [
    {
     "data": {
      "text/html": [
       "<div>\n",
       "<style scoped>\n",
       "    .dataframe tbody tr th:only-of-type {\n",
       "        vertical-align: middle;\n",
       "    }\n",
       "\n",
       "    .dataframe tbody tr th {\n",
       "        vertical-align: top;\n",
       "    }\n",
       "\n",
       "    .dataframe thead th {\n",
       "        text-align: right;\n",
       "    }\n",
       "</style>\n",
       "<table border=\"1\" class=\"dataframe\">\n",
       "  <thead>\n",
       "    <tr style=\"text-align: right;\">\n",
       "      <th></th>\n",
       "      <th>Product</th>\n",
       "      <th>MRP</th>\n",
       "      <th>Feature</th>\n",
       "      <th>ram</th>\n",
       "      <th>os</th>\n",
       "      <th>graphics</th>\n",
       "      <th>processor</th>\n",
       "      <th>memory</th>\n",
       "      <th>display</th>\n",
       "    </tr>\n",
       "  </thead>\n",
       "  <tbody>\n",
       "    <tr>\n",
       "      <th>565</th>\n",
       "      <td>ASUS ROG Zephyrus Duo 16 (2022) with 90Whr Bat...</td>\n",
       "      <td>249990</td>\n",
       "      <td>AMD Ryzen 7 Octa Core Processor32 GB DDR5 RAM6...</td>\n",
       "      <td>32</td>\n",
       "      <td>Windows 1</td>\n",
       "      <td></td>\n",
       "      <td>AMD Ryzen 7 Octa Core Processor</td>\n",
       "      <td>2 TB SSD</td>\n",
       "      <td></td>\n",
       "    </tr>\n",
       "    <tr>\n",
       "      <th>577</th>\n",
       "      <td>ASUS ROG Zephyrus Duo 16 (2022) with 90Whr Bat...</td>\n",
       "      <td>249990</td>\n",
       "      <td>AMD Ryzen 7 Octa Core Processor32 GB DDR5 RAM6...</td>\n",
       "      <td>32</td>\n",
       "      <td>Windows 1</td>\n",
       "      <td></td>\n",
       "      <td>AMD Ryzen 7 Octa Core Processor</td>\n",
       "      <td>2 TB SSD</td>\n",
       "      <td></td>\n",
       "    </tr>\n",
       "  </tbody>\n",
       "</table>\n",
       "</div>"
      ],
      "text/plain": [
       "                                               Product     MRP  \\\n",
       "565  ASUS ROG Zephyrus Duo 16 (2022) with 90Whr Bat...  249990   \n",
       "577  ASUS ROG Zephyrus Duo 16 (2022) with 90Whr Bat...  249990   \n",
       "\n",
       "                                               Feature ram         os  \\\n",
       "565  AMD Ryzen 7 Octa Core Processor32 GB DDR5 RAM6...  32  Windows 1   \n",
       "577  AMD Ryzen 7 Octa Core Processor32 GB DDR5 RAM6...  32  Windows 1   \n",
       "\n",
       "    graphics                        processor    memory display  \n",
       "565           AMD Ryzen 7 Octa Core Processor  2 TB SSD          \n",
       "577           AMD Ryzen 7 Octa Core Processor  2 TB SSD          "
      ]
     },
     "execution_count": 12,
     "metadata": {},
     "output_type": "execute_result"
    }
   ],
   "source": [
    "df[df['os']=='Windows 1']\n",
    "# they are actually windows 11."
   ]
  },
  {
   "cell_type": "code",
   "execution_count": 13,
   "id": "9f93df65",
   "metadata": {},
   "outputs": [],
   "source": [
    "df.loc[df['os'] == 'Windows 1', 'os'] = 'Windows 11'"
   ]
  },
  {
   "cell_type": "code",
   "execution_count": 14,
   "id": "4854c83c",
   "metadata": {},
   "outputs": [],
   "source": [
    "df['os'].fillna('0',inplace = True)"
   ]
  },
  {
   "cell_type": "code",
   "execution_count": 15,
   "id": "8ec32a34",
   "metadata": {},
   "outputs": [
    {
     "data": {
      "text/plain": [
       "Windows 11    536\n",
       "Windows 10    126\n",
       "0              39\n",
       "Mac OS         19\n",
       "Name: os, dtype: int64"
      ]
     },
     "execution_count": 15,
     "metadata": {},
     "output_type": "execute_result"
    }
   ],
   "source": [
    "df['os'].value_counts()"
   ]
  },
  {
   "cell_type": "code",
   "execution_count": 16,
   "id": "1b611a88",
   "metadata": {},
   "outputs": [
    {
     "data": {
      "text/html": [
       "<div>\n",
       "<style scoped>\n",
       "    .dataframe tbody tr th:only-of-type {\n",
       "        vertical-align: middle;\n",
       "    }\n",
       "\n",
       "    .dataframe tbody tr th {\n",
       "        vertical-align: top;\n",
       "    }\n",
       "\n",
       "    .dataframe thead th {\n",
       "        text-align: right;\n",
       "    }\n",
       "</style>\n",
       "<table border=\"1\" class=\"dataframe\">\n",
       "  <thead>\n",
       "    <tr style=\"text-align: right;\">\n",
       "      <th></th>\n",
       "      <th>Product</th>\n",
       "      <th>MRP</th>\n",
       "      <th>Feature</th>\n",
       "      <th>ram</th>\n",
       "      <th>os</th>\n",
       "      <th>graphics</th>\n",
       "      <th>processor</th>\n",
       "      <th>memory</th>\n",
       "      <th>display</th>\n",
       "    </tr>\n",
       "  </thead>\n",
       "  <tbody>\n",
       "    <tr>\n",
       "      <th>83</th>\n",
       "      <td>SAMSUNG Galaxy Book Go Snapdragon 7c Gen 2 - (...</td>\n",
       "      <td>32990</td>\n",
       "      <td>Qualcomm Snapdragon 7c Gen 2 Processor4 GB LPD...</td>\n",
       "      <td>4</td>\n",
       "      <td>Windows 11</td>\n",
       "      <td></td>\n",
       "      <td>Qualcomm Snapdragon 7c Gen 2 Processor</td>\n",
       "      <td></td>\n",
       "      <td></td>\n",
       "    </tr>\n",
       "    <tr>\n",
       "      <th>89</th>\n",
       "      <td>Lenovo IdeaPad 3 CB Celeron Dual Core - (4 GB/...</td>\n",
       "      <td>19490</td>\n",
       "      <td>Intel Celeron Dual Core Processor4 GB DDR4 RAM...</td>\n",
       "      <td>4</td>\n",
       "      <td>0</td>\n",
       "      <td></td>\n",
       "      <td>Intel Celeron Dual Core Processor</td>\n",
       "      <td></td>\n",
       "      <td></td>\n",
       "    </tr>\n",
       "    <tr>\n",
       "      <th>96</th>\n",
       "      <td>Lenovo IdeaPad 3 CB Celeron Dual Core - (4 GB/...</td>\n",
       "      <td>19490</td>\n",
       "      <td>Intel Celeron Dual Core Processor4 GB DDR4 RAM...</td>\n",
       "      <td>4</td>\n",
       "      <td>0</td>\n",
       "      <td></td>\n",
       "      <td>Intel Celeron Dual Core Processor</td>\n",
       "      <td></td>\n",
       "      <td></td>\n",
       "    </tr>\n",
       "    <tr>\n",
       "      <th>345</th>\n",
       "      <td>ASUS Chromebook Flip Touch Celeron Dual Core -...</td>\n",
       "      <td>14990</td>\n",
       "      <td>Intel Celeron Dual Core Processor4 GB LPDDR4 R...</td>\n",
       "      <td>4</td>\n",
       "      <td>0</td>\n",
       "      <td></td>\n",
       "      <td>Intel Celeron Dual Core Processor</td>\n",
       "      <td></td>\n",
       "      <td>11.6 inch</td>\n",
       "    </tr>\n",
       "    <tr>\n",
       "      <th>509</th>\n",
       "      <td>ASUS Chromebook Flip Touch Celeron Dual Core -...</td>\n",
       "      <td>24390</td>\n",
       "      <td>Intel Celeron Dual Core Processor4 GB LPDDR4 R...</td>\n",
       "      <td>4</td>\n",
       "      <td>0</td>\n",
       "      <td></td>\n",
       "      <td>Intel Celeron Dual Core Processor</td>\n",
       "      <td></td>\n",
       "      <td>15.6 inch</td>\n",
       "    </tr>\n",
       "    <tr>\n",
       "      <th>544</th>\n",
       "      <td>ASUS EeeBook 12 Celeron Dual Core - (4 GB/64 G...</td>\n",
       "      <td>21990</td>\n",
       "      <td>Intel Celeron Dual Core Processor4 GB DDR4 RAM...</td>\n",
       "      <td>4</td>\n",
       "      <td>Windows 11</td>\n",
       "      <td></td>\n",
       "      <td>Intel Celeron Dual Core Processor</td>\n",
       "      <td></td>\n",
       "      <td></td>\n",
       "    </tr>\n",
       "    <tr>\n",
       "      <th>559</th>\n",
       "      <td>ASUS EeeBook 12 Celeron Dual Core - (4 GB/64 G...</td>\n",
       "      <td>19990</td>\n",
       "      <td>Intel Celeron Dual Core Processor4 GB DDR4 RAM...</td>\n",
       "      <td>4</td>\n",
       "      <td>Windows 11</td>\n",
       "      <td></td>\n",
       "      <td>Intel Celeron Dual Core Processor</td>\n",
       "      <td></td>\n",
       "      <td></td>\n",
       "    </tr>\n",
       "    <tr>\n",
       "      <th>632</th>\n",
       "      <td>Lenovo IdeaPad Flex 3 Chromebook Celeron Dual ...</td>\n",
       "      <td>28490</td>\n",
       "      <td>Intel Celeron Dual Core Processor4 GB LPDDR4X ...</td>\n",
       "      <td>4</td>\n",
       "      <td>0</td>\n",
       "      <td></td>\n",
       "      <td>Intel Celeron Dual Core Processor</td>\n",
       "      <td></td>\n",
       "      <td>11.6 inch</td>\n",
       "    </tr>\n",
       "    <tr>\n",
       "      <th>695</th>\n",
       "      <td>ASUS Chromebook Celeron Dual Core - (4 GB/64 G...</td>\n",
       "      <td>25990</td>\n",
       "      <td>Intel Celeron Dual Core Processor4 GB LPDDR4 R...</td>\n",
       "      <td>4</td>\n",
       "      <td>0</td>\n",
       "      <td></td>\n",
       "      <td>Intel Celeron Dual Core Processor</td>\n",
       "      <td></td>\n",
       "      <td>14 inch</td>\n",
       "    </tr>\n",
       "    <tr>\n",
       "      <th>715</th>\n",
       "      <td>ASUS Chromebook Flip Touch Celeron Dual Core -...</td>\n",
       "      <td>23490</td>\n",
       "      <td>Intel Celeron Dual Core Processor4 GB LPDDR4 R...</td>\n",
       "      <td>4</td>\n",
       "      <td>0</td>\n",
       "      <td></td>\n",
       "      <td>Intel Celeron Dual Core Processor</td>\n",
       "      <td></td>\n",
       "      <td>11.6 inch</td>\n",
       "    </tr>\n",
       "  </tbody>\n",
       "</table>\n",
       "</div>"
      ],
      "text/plain": [
       "                                               Product    MRP  \\\n",
       "83   SAMSUNG Galaxy Book Go Snapdragon 7c Gen 2 - (...  32990   \n",
       "89   Lenovo IdeaPad 3 CB Celeron Dual Core - (4 GB/...  19490   \n",
       "96   Lenovo IdeaPad 3 CB Celeron Dual Core - (4 GB/...  19490   \n",
       "345  ASUS Chromebook Flip Touch Celeron Dual Core -...  14990   \n",
       "509  ASUS Chromebook Flip Touch Celeron Dual Core -...  24390   \n",
       "544  ASUS EeeBook 12 Celeron Dual Core - (4 GB/64 G...  21990   \n",
       "559  ASUS EeeBook 12 Celeron Dual Core - (4 GB/64 G...  19990   \n",
       "632  Lenovo IdeaPad Flex 3 Chromebook Celeron Dual ...  28490   \n",
       "695  ASUS Chromebook Celeron Dual Core - (4 GB/64 G...  25990   \n",
       "715  ASUS Chromebook Flip Touch Celeron Dual Core -...  23490   \n",
       "\n",
       "                                               Feature ram          os  \\\n",
       "83   Qualcomm Snapdragon 7c Gen 2 Processor4 GB LPD...   4  Windows 11   \n",
       "89   Intel Celeron Dual Core Processor4 GB DDR4 RAM...   4           0   \n",
       "96   Intel Celeron Dual Core Processor4 GB DDR4 RAM...   4           0   \n",
       "345  Intel Celeron Dual Core Processor4 GB LPDDR4 R...   4           0   \n",
       "509  Intel Celeron Dual Core Processor4 GB LPDDR4 R...   4           0   \n",
       "544  Intel Celeron Dual Core Processor4 GB DDR4 RAM...   4  Windows 11   \n",
       "559  Intel Celeron Dual Core Processor4 GB DDR4 RAM...   4  Windows 11   \n",
       "632  Intel Celeron Dual Core Processor4 GB LPDDR4X ...   4           0   \n",
       "695  Intel Celeron Dual Core Processor4 GB LPDDR4 R...   4           0   \n",
       "715  Intel Celeron Dual Core Processor4 GB LPDDR4 R...   4           0   \n",
       "\n",
       "    graphics                               processor memory    display  \n",
       "83            Qualcomm Snapdragon 7c Gen 2 Processor                    \n",
       "89                 Intel Celeron Dual Core Processor                    \n",
       "96                 Intel Celeron Dual Core Processor                    \n",
       "345                Intel Celeron Dual Core Processor         11.6 inch  \n",
       "509                Intel Celeron Dual Core Processor         15.6 inch  \n",
       "544                Intel Celeron Dual Core Processor                    \n",
       "559                Intel Celeron Dual Core Processor                    \n",
       "632                Intel Celeron Dual Core Processor         11.6 inch  \n",
       "695                Intel Celeron Dual Core Processor           14 inch  \n",
       "715                Intel Celeron Dual Core Processor         11.6 inch  "
      ]
     },
     "execution_count": 16,
     "metadata": {},
     "output_type": "execute_result"
    }
   ],
   "source": [
    "df[df['memory']=='']\n",
    "# they are just 32,64 and 128 gb's 64 gb is high in number so replace with 64gb."
   ]
  },
  {
   "cell_type": "code",
   "execution_count": 17,
   "id": "f6163cde",
   "metadata": {
    "scrolled": true
   },
   "outputs": [],
   "source": [
    "df.loc[df['memory'] == '', 'memory'] = '64 gb'"
   ]
  },
  {
   "cell_type": "code",
   "execution_count": 18,
   "id": "93026771",
   "metadata": {},
   "outputs": [],
   "source": [
    "df['memory'] = df['memory'].str.split().str[0]"
   ]
  },
  {
   "cell_type": "code",
   "execution_count": 19,
   "id": "22b9e365",
   "metadata": {},
   "outputs": [
    {
     "data": {
      "text/plain": [
       "512    375\n",
       "1      221\n",
       "256     99\n",
       "64      10\n",
       "128      8\n",
       "2        7\n",
       "Name: memory, dtype: int64"
      ]
     },
     "execution_count": 19,
     "metadata": {},
     "output_type": "execute_result"
    }
   ],
   "source": [
    "df['memory'].value_counts()"
   ]
  },
  {
   "cell_type": "code",
   "execution_count": 20,
   "id": "4a57ead0",
   "metadata": {},
   "outputs": [
    {
     "data": {
      "text/plain": [
       "8     402\n",
       "16    263\n",
       "4      37\n",
       "32     17\n",
       "5       1\n",
       "Name: ram, dtype: int64"
      ]
     },
     "execution_count": 20,
     "metadata": {},
     "output_type": "execute_result"
    }
   ],
   "source": [
    "df['ram'].value_counts()"
   ]
  },
  {
   "cell_type": "code",
   "execution_count": 21,
   "id": "84650a83",
   "metadata": {},
   "outputs": [],
   "source": [
    "#correcting the mistake\n",
    "df.loc[df['ram'] == '5','ram'] = '8'"
   ]
  },
  {
   "cell_type": "code",
   "execution_count": 22,
   "id": "a3f6911e",
   "metadata": {},
   "outputs": [
    {
     "data": {
      "text/plain": [
       "Intel Core i5 Processor                   151\n",
       "Intel Core i3 Processor                   129\n",
       "AMD Ryzen 9 Octa Core Processor            87\n",
       "AMD Ryzen 7 Octa Core Processor            79\n",
       "Intel Core i7 Processor                    50\n",
       "AMD Ryzen 5 Hexa Core Processor            48\n",
       "AMD Ryzen 3 Dual Core Processor            42\n",
       "AMD Ryzen 5 Quad Core Processor            37\n",
       "                                           25\n",
       "Intel Celeron Dual Core Processor          20\n",
       "Intel Core i9 Processor                    10\n",
       "M1 Processor                                7\n",
       "M1 Pro Processor                            6\n",
       "M2 Processor                                5\n",
       "AMD Ryzen 3 Quad Core Processor             4\n",
       "Intel Pentium Quad Core Processor           3\n",
       "Intel Celeron Quad Core Processor           3\n",
       "Intel Pentium Silver Processor              2\n",
       "Intel Evo Core i5 Processor                 2\n",
       "AMD Athlon Dual Core Processor              2\n",
       "Intel OptaneIntel Core i3 Processor         2\n",
       "Qualcomm Snapdragon 7c Gen 2 Processor      1\n",
       "M1 Max Processor                            1\n",
       "AMD Ryzen 7 Quad Core Processor             1\n",
       "AMD Ryzen 5 Dual Core Processor             1\n",
       "AMD Dual Core Processor                     1\n",
       "AMD Ryzen 3 Hexa Core Processor             1\n",
       "Name: processor, dtype: int64"
      ]
     },
     "execution_count": 22,
     "metadata": {},
     "output_type": "execute_result"
    }
   ],
   "source": [
    "df['processor'].value_counts()"
   ]
  },
  {
   "cell_type": "code",
   "execution_count": 23,
   "id": "5bbb58a1",
   "metadata": {},
   "outputs": [],
   "source": [
    "#For these 25 empty processors we are not able to extract info \n",
    "def fun(x):\n",
    "    if 'i3' in x:\n",
    "        return 'Intel Core i3 Processor'\n",
    "    elif 'i5' in x:\n",
    "        return 'Intel Core i5 Processor'\n",
    "    elif 'i7' in x:\n",
    "        return 'Intel Core i7 Processor'\n",
    "    elif 'i9' in x:\n",
    "        return 'Intel Core i9 Processor'\n",
    "    elif 'Ryzen 3' in x:\n",
    "        return 'AMD Ryzen 3 Dual Core Processor'\n",
    "    elif 'Ryzen 5' in x:\n",
    "        return 'AMD Ryzen 5 Quad Core Processor'\n",
    "    elif 'Ryzen 7' in x:\n",
    "        return 'AMD Ryzen 7 Octa Core Processor'\n",
    "    else:\n",
    "        return 'Intel Core i3 Processor'\n",
    "\n",
    "df.loc[df['processor']=='','Product'] = df.loc[df['processor']=='','Product'].apply(fun)"
   ]
  },
  {
   "cell_type": "code",
   "execution_count": 24,
   "id": "7e20367e",
   "metadata": {},
   "outputs": [
    {
     "data": {
      "text/html": [
       "<div>\n",
       "<style scoped>\n",
       "    .dataframe tbody tr th:only-of-type {\n",
       "        vertical-align: middle;\n",
       "    }\n",
       "\n",
       "    .dataframe tbody tr th {\n",
       "        vertical-align: top;\n",
       "    }\n",
       "\n",
       "    .dataframe thead th {\n",
       "        text-align: right;\n",
       "    }\n",
       "</style>\n",
       "<table border=\"1\" class=\"dataframe\">\n",
       "  <thead>\n",
       "    <tr style=\"text-align: right;\">\n",
       "      <th></th>\n",
       "      <th>Product</th>\n",
       "      <th>MRP</th>\n",
       "      <th>Feature</th>\n",
       "      <th>ram</th>\n",
       "      <th>os</th>\n",
       "      <th>graphics</th>\n",
       "      <th>processor</th>\n",
       "      <th>memory</th>\n",
       "      <th>display</th>\n",
       "    </tr>\n",
       "  </thead>\n",
       "  <tbody>\n",
       "  </tbody>\n",
       "</table>\n",
       "</div>"
      ],
      "text/plain": [
       "Empty DataFrame\n",
       "Columns: [Product, MRP, Feature, ram, os, graphics, processor, memory, display]\n",
       "Index: []"
      ]
     },
     "execution_count": 24,
     "metadata": {},
     "output_type": "execute_result"
    }
   ],
   "source": [
    "df[df['processor']=='8']  #not valid row"
   ]
  },
  {
   "cell_type": "code",
   "execution_count": 25,
   "id": "60071146",
   "metadata": {},
   "outputs": [],
   "source": [
    "df.drop(index = 448,inplace = True)"
   ]
  },
  {
   "cell_type": "code",
   "execution_count": 26,
   "id": "82920a04",
   "metadata": {},
   "outputs": [
    {
     "data": {
      "text/plain": [
       "15.6 inch                 352\n",
       "                          210\n",
       "14 inch                   100\n",
       "13.3 inch                   9\n",
       "15.6 inch15.6 inch          7\n",
       "16 inch                     6\n",
       "16.1 inch                   5\n",
       "17.3 inch                   5\n",
       "16.2 inch                   5\n",
       "14.1 inch                   4\n",
       "11.6 inch                   4\n",
       "15 inch                     4\n",
       "14.2 inch                   2\n",
       "14 inch14 inch              2\n",
       "13 inch                     1\n",
       "13.5 inch                   1\n",
       "16.6 inch                   1\n",
       "206015.6 inch15.6 inch      1\n",
       "Name: display, dtype: int64"
      ]
     },
     "execution_count": 26,
     "metadata": {},
     "output_type": "execute_result"
    }
   ],
   "source": [
    "#Now display\n",
    "df['display'].value_counts()"
   ]
  },
  {
   "cell_type": "code",
   "execution_count": 27,
   "id": "7a93deaf",
   "metadata": {},
   "outputs": [
    {
     "data": {
      "text/plain": [
       "11     AMD Ryzen 5 Quad Core Processor8 GB DDR4 RAM64...\n",
       "13     AMD Ryzen 5 Hexa Core Processor8 GB DDR4 RAM64...\n",
       "14     Intel Core i3 Processor (11th Gen)8 GB DDR4 RA...\n",
       "17     Intel Core i5 Processor (11th Gen)8 GB DDR4 RA...\n",
       "23     AMD Ryzen 3 Dual Core Processor8 GB DDR4 RAM64...\n",
       "                             ...                        \n",
       "705    AMD Ryzen 7 Octa Core Processor16 GB DDR5 RAM6...\n",
       "706    AMD Ryzen 5 Quad Core Processor8 GB DDR4 RAM64...\n",
       "709    AMD Ryzen 9 Octa Core Processor16 GB LPDDR5 RA...\n",
       "710    AMD Ryzen 3 Dual Core Processor8 GB DDR4 RAM64...\n",
       "713    Intel Core i5 Processor (12th Gen)16 GB DDR5 R...\n",
       "Name: Feature, Length: 210, dtype: object"
      ]
     },
     "execution_count": 27,
     "metadata": {},
     "output_type": "execute_result"
    }
   ],
   "source": [
    "#display is cannot be known in these examples.\n",
    "df.loc[df['display'] == '']['Feature']"
   ]
  },
  {
   "cell_type": "markdown",
   "id": "65dfe045",
   "metadata": {},
   "source": [
    "### display is having 210 examples null values because the values are not provided , we cannot eve drop them that is a huge number, And also display is in range of 13 to 16 inch approx so its better lets drop it"
   ]
  },
  {
   "cell_type": "code",
   "execution_count": 28,
   "id": "b83f6915",
   "metadata": {},
   "outputs": [],
   "source": [
    "df.drop(['display'],inplace = True,axis = 1)"
   ]
  },
  {
   "cell_type": "code",
   "execution_count": 29,
   "id": "0dfdc829",
   "metadata": {},
   "outputs": [
    {
     "data": {
      "text/plain": [
       "      531\n",
       "4     121\n",
       "8      32\n",
       "6      24\n",
       "2       8\n",
       "16      3\n",
       "Name: graphics, dtype: int64"
      ]
     },
     "execution_count": 29,
     "metadata": {},
     "output_type": "execute_result"
    }
   ],
   "source": [
    "df['graphics'].value_counts()"
   ]
  },
  {
   "cell_type": "markdown",
   "id": "86fc328f",
   "metadata": {},
   "source": [
    "> Graphics is also having 531 nan values which is more than half of our data but the graphic card can make a significant difference in the price of a laptop. Laptops with dedicated graphics cards are generally more expensive than those without, as they offer better performance and are ideal for gaming. So we should labelencode the graphic card."
   ]
  },
  {
   "cell_type": "code",
   "execution_count": 30,
   "id": "94927a37",
   "metadata": {},
   "outputs": [],
   "source": [
    "df.loc[df['graphics']== '','graphics'] = '0'"
   ]
  },
  {
   "cell_type": "code",
   "execution_count": 31,
   "id": "c108aec3",
   "metadata": {},
   "outputs": [
    {
     "data": {
      "text/plain": [
       "0     531\n",
       "4     121\n",
       "8      32\n",
       "6      24\n",
       "2       8\n",
       "16      3\n",
       "Name: graphics, dtype: int64"
      ]
     },
     "execution_count": 31,
     "metadata": {},
     "output_type": "execute_result"
    }
   ],
   "source": [
    "df['graphics'].value_counts()"
   ]
  },
  {
   "cell_type": "code",
   "execution_count": 32,
   "id": "7681c15f",
   "metadata": {},
   "outputs": [],
   "source": [
    "df['graphics'] = df['graphics'].astype('int')"
   ]
  },
  {
   "cell_type": "code",
   "execution_count": 33,
   "id": "7fcf8b4e",
   "metadata": {},
   "outputs": [
    {
     "data": {
      "text/plain": [
       "Index(['Product', 'MRP', 'Feature', 'ram', 'os', 'graphics', 'processor',\n",
       "       'memory'],\n",
       "      dtype='object')"
      ]
     },
     "execution_count": 33,
     "metadata": {},
     "output_type": "execute_result"
    }
   ],
   "source": [
    "df.columns"
   ]
  },
  {
   "cell_type": "markdown",
   "id": "ac5f713a",
   "metadata": {},
   "source": [
    "## Data Analysis"
   ]
  },
  {
   "cell_type": "code",
   "execution_count": 34,
   "id": "db1454b0",
   "metadata": {},
   "outputs": [],
   "source": [
    "df['MRP'] = df['MRP'].astype('int')"
   ]
  },
  {
   "cell_type": "code",
   "execution_count": 35,
   "id": "0d4115ae",
   "metadata": {},
   "outputs": [
    {
     "data": {
      "text/plain": [
       "count       719.000000\n",
       "mean      81633.107093\n",
       "std       61591.451966\n",
       "min       14990.000000\n",
       "25%       38994.500000\n",
       "50%       59990.000000\n",
       "75%       95490.000000\n",
       "max      434830.000000\n",
       "Name: MRP, dtype: float64"
      ]
     },
     "execution_count": 35,
     "metadata": {},
     "output_type": "execute_result"
    }
   ],
   "source": [
    "df['MRP'].describe()"
   ]
  },
  {
   "cell_type": "code",
   "execution_count": 36,
   "id": "20785927",
   "metadata": {
    "scrolled": true
   },
   "outputs": [
    {
     "data": {
      "text/plain": [
       "<AxesSubplot:xlabel='MRP', ylabel='Count'>"
      ]
     },
     "execution_count": 36,
     "metadata": {},
     "output_type": "execute_result"
    },
    {
     "data": {
      "image/png": "[encoded data removed]",
      "text/plain": [
       "<Figure size 432x288 with 1 Axes>"
      ]
     },
     "metadata": {
      "needs_background": "light"
     },
     "output_type": "display_data"
    }
   ],
   "source": [
    "sns.histplot(x = 'MRP',data = df,kde = True)"
   ]
  },
  {
   "cell_type": "code",
   "execution_count": 37,
   "id": "7d35ec8c",
   "metadata": {},
   "outputs": [
    {
     "data": {
      "text/plain": [
       "<AxesSubplot:xlabel='MRP'>"
      ]
     },
     "execution_count": 37,
     "metadata": {},
     "output_type": "execute_result"
    },
    {
     "data": {
      "image/png": "[encoded data removed]",
      "text/plain": [
       "<Figure size 432x288 with 1 Axes>"
      ]
     },
     "metadata": {
      "needs_background": "light"
     },
     "output_type": "display_data"
    }
   ],
   "source": [
    "sns.boxplot(x = 'MRP',data = df)"
   ]
  },
  {
   "cell_type": "code",
   "execution_count": 38,
   "id": "72de2fdd",
   "metadata": {},
   "outputs": [],
   "source": [
    "df.loc[df['MRP']>200000,'MRP'] = df[df['MRP']>200000]['MRP'].mean()"
   ]
  },
  {
   "cell_type": "code",
   "execution_count": 39,
   "id": "5c9f7452",
   "metadata": {},
   "outputs": [
    {
     "data": {
      "text/plain": [
       "<AxesSubplot:xlabel='MRP'>"
      ]
     },
     "execution_count": 39,
     "metadata": {},
     "output_type": "execute_result"
    },
    {
     "data": {
      "image/png": "[encoded data removed]",
      "text/plain": [
       "<Figure size 432x288 with 1 Axes>"
      ]
     },
     "metadata": {
      "needs_background": "light"
     },
     "output_type": "display_data"
    }
   ],
   "source": [
    "sns.boxplot(x = 'MRP',data = df)"
   ]
  },
  {
   "cell_type": "code",
   "execution_count": 40,
   "id": "f49e4f98",
   "metadata": {},
   "outputs": [
    {
     "data": {
      "text/plain": [
       "(array([0, 1, 2, 3]),\n",
       " [Text(0, 0, 'Windows 11'),\n",
       "  Text(1, 0, 'Windows 10'),\n",
       "  Text(2, 0, 'Mac OS'),\n",
       "  Text(3, 0, '0')])"
      ]
     },
     "execution_count": 40,
     "metadata": {},
     "output_type": "execute_result"
    },
    {
     "data": {
      "image/png": "[encoded data removed]",
      "text/plain": [
       "<Figure size 1080x360 with 1 Axes>"
      ]
     },
     "metadata": {
      "needs_background": "light"
     },
     "output_type": "display_data"
    }
   ],
   "source": [
    "plt.figure(figsize = (15,5))\n",
    "sns.boxplot(x = 'os',y = 'MRP',data = df)\n",
    "plt.xticks(rotation = 'vertical')"
   ]
  },
  {
   "cell_type": "code",
   "execution_count": 41,
   "id": "89c2c059",
   "metadata": {},
   "outputs": [
    {
     "data": {
      "text/plain": [
       "(array([0, 1, 2, 3, 4, 5]),\n",
       " [Text(0, 0, '256'),\n",
       "  Text(1, 0, '512'),\n",
       "  Text(2, 0, '1'),\n",
       "  Text(3, 0, '64'),\n",
       "  Text(4, 0, '128'),\n",
       "  Text(5, 0, '2')])"
      ]
     },
     "execution_count": 41,
     "metadata": {},
     "output_type": "execute_result"
    },
    {
     "data": {
      "image/png": "[encoded data removed]",
      "text/plain": [
       "<Figure size 1080x360 with 1 Axes>"
      ]
     },
     "metadata": {
      "needs_background": "light"
     },
     "output_type": "display_data"
    }
   ],
   "source": [
    "plt.figure(figsize = (15,5))\n",
    "sns.boxplot(x = 'memory',y = 'MRP',data = df)\n",
    "plt.xticks(rotation = 'vertical')"
   ]
  },
  {
   "cell_type": "code",
   "execution_count": 42,
   "id": "1df838ed",
   "metadata": {},
   "outputs": [
    {
     "data": {
      "text/plain": [
       "(array([0, 1, 2, 3]),\n",
       " [Text(0, 0, '8'), Text(1, 0, '16'), Text(2, 0, '4'), Text(3, 0, '32')])"
      ]
     },
     "execution_count": 42,
     "metadata": {},
     "output_type": "execute_result"
    },
    {
     "data": {
      "image/png": "[encoded data removed]",
      "text/plain": [
       "<Figure size 1080x360 with 1 Axes>"
      ]
     },
     "metadata": {
      "needs_background": "light"
     },
     "output_type": "display_data"
    }
   ],
   "source": [
    "plt.figure(figsize = (15,5))\n",
    "sns.boxplot(x = 'ram',y = 'MRP',data = df)\n",
    "plt.xticks(rotation = 'vertical')"
   ]
  },
  {
   "cell_type": "code",
   "execution_count": 43,
   "id": "c52b5c9f",
   "metadata": {},
   "outputs": [
    {
     "data": {
      "text/plain": [
       "(array([0, 1, 2, 3, 4, 5]),\n",
       " [Text(0, 0, '0'),\n",
       "  Text(1, 0, '2'),\n",
       "  Text(2, 0, '4'),\n",
       "  Text(3, 0, '6'),\n",
       "  Text(4, 0, '8'),\n",
       "  Text(5, 0, '16')])"
      ]
     },
     "execution_count": 43,
     "metadata": {},
     "output_type": "execute_result"
    },
    {
     "data": {
      "image/png": "[encoded data removed]",
      "text/plain": [
       "<Figure size 1080x360 with 1 Axes>"
      ]
     },
     "metadata": {
      "needs_background": "light"
     },
     "output_type": "display_data"
    }
   ],
   "source": [
    "plt.figure(figsize = (15,5))\n",
    "sns.boxplot(x = 'graphics',y = 'MRP',data = df)\n",
    "plt.xticks(rotation = 'vertical')"
   ]
  },
  {
   "cell_type": "code",
   "execution_count": 44,
   "id": "c2751576",
   "metadata": {},
   "outputs": [
    {
     "data": {
      "text/plain": [
       "(array([ 0,  1,  2,  3,  4,  5,  6,  7,  8,  9, 10, 11, 12, 13, 14, 15, 16,\n",
       "        17, 18, 19, 20, 21, 22, 23, 24, 25, 26]),\n",
       " [Text(0, 0, 'Intel Core i3 Processor'),\n",
       "  Text(1, 0, 'AMD Ryzen 5 Hexa Core Processor'),\n",
       "  Text(2, 0, 'Intel Core i5 Processor'),\n",
       "  Text(3, 0, 'Intel OptaneIntel Core i3 Processor'),\n",
       "  Text(4, 0, ''),\n",
       "  Text(5, 0, 'AMD Ryzen 7 Quad Core Processor'),\n",
       "  Text(6, 0, 'AMD Ryzen 5 Quad Core Processor'),\n",
       "  Text(7, 0, 'AMD Ryzen 9 Octa Core Processor'),\n",
       "  Text(8, 0, 'AMD Ryzen 7 Octa Core Processor'),\n",
       "  Text(9, 0, 'M1 Processor'),\n",
       "  Text(10, 0, 'Intel Celeron Dual Core Processor'),\n",
       "  Text(11, 0, 'AMD Ryzen 3 Dual Core Processor'),\n",
       "  Text(12, 0, 'AMD Athlon Dual Core Processor'),\n",
       "  Text(13, 0, 'Intel Evo Core i5 Processor'),\n",
       "  Text(14, 0, 'AMD Ryzen 3 Quad Core Processor'),\n",
       "  Text(15, 0, 'M2 Processor'),\n",
       "  Text(16, 0, 'Intel Celeron Quad Core Processor'),\n",
       "  Text(17, 0, 'Intel Core i7 Processor'),\n",
       "  Text(18, 0, 'M1 Pro Processor'),\n",
       "  Text(19, 0, 'Qualcomm Snapdragon 7c Gen 2 Processor'),\n",
       "  Text(20, 0, 'M1 Max Processor'),\n",
       "  Text(21, 0, 'Intel Core i9 Processor'),\n",
       "  Text(22, 0, 'Intel Pentium Silver Processor'),\n",
       "  Text(23, 0, 'AMD Ryzen 5 Dual Core Processor'),\n",
       "  Text(24, 0, 'Intel Pentium Quad Core Processor'),\n",
       "  Text(25, 0, 'AMD Dual Core Processor'),\n",
       "  Text(26, 0, 'AMD Ryzen 3 Hexa Core Processor')])"
      ]
     },
     "execution_count": 44,
     "metadata": {},
     "output_type": "execute_result"
    },
    {
     "data": {
      "image/png": "[encoded data removed]",
      "text/plain": [
       "<Figure size 1080x360 with 1 Axes>"
      ]
     },
     "metadata": {
      "needs_background": "light"
     },
     "output_type": "display_data"
    }
   ],
   "source": [
    "plt.figure(figsize = (15,5))\n",
    "sns.boxplot(x = 'processor',y = 'MRP',data = df)\n",
    "plt.xticks(rotation = 'vertical')"
   ]
  },
  {
   "cell_type": "markdown",
   "id": "a86e5334",
   "metadata": {},
   "source": [
    "### Preprocessing"
   ]
  },
  {
   "cell_type": "code",
   "execution_count": 45,
   "id": "1b9294fc",
   "metadata": {},
   "outputs": [
    {
     "data": {
      "text/plain": [
       "processor\n",
       "Intel Celeron Quad Core Processor          20990.0\n",
       "Intel Celeron Dual Core Processor          23740.0\n",
       "AMD Dual Core Processor                    27490.0\n",
       "AMD Athlon Dual Core Processor             27690.0\n",
       "Intel Pentium Silver Processor             28740.0\n",
       "Qualcomm Snapdragon 7c Gen 2 Processor     32990.0\n",
       "AMD Ryzen 3 Dual Core Processor            35590.0\n",
       "Intel Pentium Quad Core Processor          36990.0\n",
       "Intel Core i3 Processor                    38216.0\n",
       "AMD Ryzen 5 Quad Core Processor            38705.0\n",
       "AMD Ryzen 3 Quad Core Processor            40799.0\n",
       "Intel OptaneIntel Core i3 Processor        42445.0\n",
       "AMD Ryzen 7 Quad Core Processor            44990.0\n",
       "AMD Ryzen 5 Hexa Core Processor            54645.0\n",
       "AMD Ryzen 5 Dual Core Processor            56990.0\n",
       "Intel Evo Core i5 Processor                59990.0\n",
       "Intel Core i5 Processor                    60260.0\n",
       "AMD Ryzen 3 Hexa Core Processor            64590.0\n",
       "                                           67990.0\n",
       "AMD Ryzen 7 Octa Core Processor            85990.0\n",
       "M1 Processor                              104990.0\n",
       "Intel Core i7 Processor                   109990.0\n",
       "M2 Processor                              139990.0\n",
       "AMD Ryzen 9 Octa Core Processor           194990.0\n",
       "M1 Max Processor                          266294.0\n",
       "M1 Pro Processor                          266294.0\n",
       "Intel Core i9 Processor                   266294.0\n",
       "Name: MRP, dtype: float64"
      ]
     },
     "execution_count": 45,
     "metadata": {},
     "output_type": "execute_result"
    }
   ],
   "source": [
    "df.groupby(['processor'])['MRP'].median().sort_values()"
   ]
  },
  {
   "cell_type": "code",
   "execution_count": 46,
   "id": "c5d5e17a",
   "metadata": {},
   "outputs": [
    {
     "data": {
      "text/plain": [
       "memory\n",
       "64      22740.0\n",
       "128     25485.0\n",
       "256     36990.0\n",
       "512     49169.0\n",
       "1      149990.0\n",
       "2      266294.0\n",
       "Name: MRP, dtype: float64"
      ]
     },
     "execution_count": 46,
     "metadata": {},
     "output_type": "execute_result"
    }
   ],
   "source": [
    "df.groupby(['memory'])['MRP'].median().sort_values()"
   ]
  },
  {
   "cell_type": "code",
   "execution_count": 47,
   "id": "5b5d2a79",
   "metadata": {},
   "outputs": [
    {
     "data": {
      "text/plain": [
       "ram\n",
       "4      28490.0\n",
       "8      39990.0\n",
       "16    109990.0\n",
       "32    266294.0\n",
       "Name: MRP, dtype: float64"
      ]
     },
     "execution_count": 47,
     "metadata": {},
     "output_type": "execute_result"
    }
   ],
   "source": [
    "df.groupby(['ram'])['MRP'].median().sort_values()"
   ]
  },
  {
   "cell_type": "code",
   "execution_count": 48,
   "id": "54137456",
   "metadata": {
    "scrolled": true
   },
   "outputs": [
    {
     "data": {
      "text/plain": [
       "os\n",
       "Windows 11     48077.0\n",
       "Windows 10     63040.0\n",
       "Mac OS        139990.0\n",
       "0             150990.0\n",
       "Name: MRP, dtype: float64"
      ]
     },
     "execution_count": 48,
     "metadata": {},
     "output_type": "execute_result"
    }
   ],
   "source": [
    "df.groupby(['os'])['MRP'].median().sort_values()"
   ]
  },
  {
   "cell_type": "code",
   "execution_count": 49,
   "id": "66ac5604",
   "metadata": {},
   "outputs": [
    {
     "data": {
      "text/plain": [
       "graphics\n",
       "0      43090.0\n",
       "2      67107.0\n",
       "4      79990.0\n",
       "6     120490.0\n",
       "8     194990.0\n",
       "16    266294.0\n",
       "Name: MRP, dtype: float64"
      ]
     },
     "execution_count": 49,
     "metadata": {},
     "output_type": "execute_result"
    }
   ],
   "source": [
    "df.groupby(['graphics'])['MRP'].median().sort_values()"
   ]
  },
  {
   "cell_type": "markdown",
   "id": "846e790c",
   "metadata": {},
   "source": [
    " ###  So our categorical features will be label_encoded as above"
   ]
  },
  {
   "cell_type": "code",
   "execution_count": 50,
   "id": "3d5815c9",
   "metadata": {},
   "outputs": [],
   "source": [
    "df.drop(['Product','Feature'],axis = 1, inplace = True)"
   ]
  },
  {
   "cell_type": "code",
   "execution_count": 51,
   "id": "7b7b328e",
   "metadata": {},
   "outputs": [],
   "source": [
    "encode_dict  = {}\n",
    "def target_encoding( feature):\n",
    "    x = df.groupby(feature)['MRP'].median().sort_values().index\n",
    "    encode_dict[feature] = {key:index for index,key in enumerate(x)}\n",
    "    df[feature] = df[feature].map(encode_dict[feature])\n"
   ]
  },
  {
   "cell_type": "code",
   "execution_count": 52,
   "id": "a71c4abc",
   "metadata": {},
   "outputs": [],
   "source": [
    "cat_features  =  ['ram', 'os', 'graphics', 'processor', 'memory']\n",
    "for i in cat_features:\n",
    "    target_encoding(i)"
   ]
  },
  {
   "cell_type": "markdown",
   "id": "25e97ed0",
   "metadata": {},
   "source": [
    "## Model_building"
   ]
  },
  {
   "cell_type": "code",
   "execution_count": 53,
   "id": "5918b658",
   "metadata": {},
   "outputs": [],
   "source": [
    "y = df['MRP']\n",
    "X = df[cat_features]"
   ]
  },
  {
   "cell_type": "code",
   "execution_count": 54,
   "id": "57f1752c",
   "metadata": {},
   "outputs": [],
   "source": [
    "from sklearn.model_selection import train_test_split\n",
    "X_train,X_test,y_train,y_test = train_test_split(X,y,test_size = 0.25)"
   ]
  },
  {
   "cell_type": "markdown",
   "id": "590dc7da",
   "metadata": {},
   "source": [
    "### Random_forest regressor"
   ]
  },
  {
   "cell_type": "code",
   "execution_count": 55,
   "id": "7db87454",
   "metadata": {},
   "outputs": [
    {
     "name": "stdout",
     "output_type": "stream",
     "text": [
      "Random Forest\n",
      "MSE: 260840273.74939266\n",
      "R2: 0.9292817677294926\n"
     ]
    }
   ],
   "source": [
    "from sklearn.ensemble import RandomForestRegressor\n",
    "from sklearn.metrics import mean_squared_error, r2_score\n",
    "\n",
    "# Train the model\n",
    "rf = RandomForestRegressor(n_estimators=100, random_state=42)\n",
    "rf.fit(X_train, y_train)\n",
    "\n",
    "# Make predictions on the test set\n",
    "y_pred = rf.predict(X_test)\n",
    "\n",
    "# Evaluate the model\n",
    "mse = mean_squared_error(y_test, y_pred)\n",
    "r2 = r2_score(y_test, y_pred)\n",
    "\n",
    "print(\"Random Forest\")\n",
    "print(\"MSE:\", mse)\n",
    "print(\"R2:\", r2)\n"
   ]
  },
  {
   "cell_type": "markdown",
   "id": "1368ccdb",
   "metadata": {},
   "source": [
    "### Gradient boosting regressor"
   ]
  },
  {
   "cell_type": "code",
   "execution_count": 56,
   "id": "f6b94480",
   "metadata": {},
   "outputs": [
    {
     "name": "stdout",
     "output_type": "stream",
     "text": [
      "Gradient Boosting\n",
      "MSE: 251233181.23044637\n",
      "R2: 0.9318864138235686\n"
     ]
    }
   ],
   "source": [
    "from sklearn.ensemble import GradientBoostingRegressor\n",
    "\n",
    "# Train the model\n",
    "gb = GradientBoostingRegressor(n_estimators=100, random_state=42)\n",
    "gb.fit(X_train, y_train)\n",
    "\n",
    "# Make predictions on the test set\n",
    "y_pred = gb.predict(X_test)\n",
    "\n",
    "# Evaluate the model\n",
    "mse = mean_squared_error(y_test, y_pred)\n",
    "r2 = r2_score(y_test, y_pred)\n",
    "\n",
    "print(\"Gradient Boosting\")\n",
    "print(\"MSE:\", mse)\n",
    "print(\"R2:\", r2)\n"
   ]
  },
  {
   "cell_type": "markdown",
   "id": "4ec32459",
   "metadata": {},
   "source": [
    "### Xgboost"
   ]
  },
  {
   "cell_type": "code",
   "execution_count": 57,
   "id": "29b8b9c7",
   "metadata": {},
   "outputs": [
    {
     "name": "stdout",
     "output_type": "stream",
     "text": [
      "XGBoost\n",
      "MSE: 255455460.49219158\n",
      "R2: 0.9307416821406465\n"
     ]
    }
   ],
   "source": [
    "import xgboost as xgb\n",
    "\n",
    "# Train the model\n",
    "xgbr = xgb.XGBRegressor(n_estimators=100, random_state=42)\n",
    "xgbr.fit(X_train, y_train)\n",
    "\n",
    "# Make predictions on the test set\n",
    "y_pred = xgbr.predict(X_test)\n",
    "\n",
    "# Evaluate the model\n",
    "mse = mean_squared_error(y_test, y_pred)\n",
    "r2 = r2_score(y_test, y_pred)\n",
    "\n",
    "print(\"XGBoost\")\n",
    "print(\"MSE:\", mse)\n",
    "print(\"R2:\", r2)\n"
   ]
  },
  {
   "cell_type": "markdown",
   "id": "19463f0c",
   "metadata": {},
   "source": [
    "### Random forest is giving good accuracy."
   ]
  },
  {
   "cell_type": "code",
   "execution_count": 58,
   "id": "aaeb6eb6",
   "metadata": {},
   "outputs": [
    {
     "data": {
      "image/png": "[encoded data removed]",
      "text/plain": [
       "<Figure size 432x288 with 1 Axes>"
      ]
     },
     "metadata": {
      "needs_background": "light"
     },
     "output_type": "display_data"
    }
   ],
   "source": [
    "importances = rf.feature_importances_\n",
    "indices = np.argsort(importances)[::-1]\n",
    "top_features = X.columns[indices][:5]\n",
    "plt.bar(top_features, importances[indices][:5])\n",
    "plt.title('Top 5 Important Features')\n",
    "plt.xlabel('Features')\n",
    "plt.ylabel('Importance Score')\n",
    "plt.show()"
   ]
  },
  {
   "cell_type": "markdown",
   "id": "35d96579",
   "metadata": {},
   "source": [
    "## Processor is Highly correlated with the price of the laptop, I recommend that the processor and RAM are important features to keep in mind while building laptops."
   ]
  },
  {
   "cell_type": "markdown",
   "id": "13cc1de1",
   "metadata": {},
   "source": [
    "### Saving model"
   ]
  },
  {
   "cell_type": "code",
   "execution_count": 59,
   "id": "b4d60d9f",
   "metadata": {},
   "outputs": [],
   "source": [
    "import pickle\n",
    "with open('rfmodel.pkl', 'wb') as file:\n",
    "    pickle.dump(rf, file)\n",
    "with open('encode_dict','wb') as file:\n",
    "    pickle.dump(encode_dict,file)"
   ]
  }
 ],
 "metadata": {
  "kernelspec": {
   "display_name": "Python 3 (ipykernel)",
   "language": "python",
   "name": "python3"
  },
  "language_info": {
   "codemirror_mode": {
    "name": "ipython",
    "version": 3
   },
   "file_extension": ".py",
   "mimetype": "text/x-python",
   "name": "python",
   "nbconvert_exporter": "python",
   "pygments_lexer": "ipython3",
   "version": "3.9.12"
  }
 },
 "nbformat": 4,
 "nbformat_minor": 5
}
